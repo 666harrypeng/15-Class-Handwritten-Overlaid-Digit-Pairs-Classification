{
 "cells": [
  {
   "cell_type": "markdown",
   "metadata": {},
   "source": [
    "ECE4200 - MiniProject (PCA + Random Forest)\n",
    "\n",
    "Name: Yiyan Peng\n",
    "\n",
    "NetID: yp449"
   ]
  },
  {
   "cell_type": "code",
   "execution_count": 2,
   "metadata": {},
   "outputs": [],
   "source": [
    "import numpy as np\n",
    "import matplotlib.pyplot as plt"
   ]
  },
  {
   "cell_type": "markdown",
   "metadata": {},
   "source": [
    "Load data"
   ]
  },
  {
   "cell_type": "code",
   "execution_count": 3,
   "metadata": {},
   "outputs": [],
   "source": [
    "data = np.load('/Users/harrypeng/Desktop/ECE4200/Cornell_ML_MiniProject/data.npz')\n",
    "X_train = data['X_train']   # (82875, 28*28) => (82875, 784)\n",
    "y_train = data['y_train']   # (82875,)\n",
    "X_test = data['X_test']     # (14625, 784)"
   ]
  },
  {
   "cell_type": "code",
   "execution_count": 4,
   "metadata": {},
   "outputs": [],
   "source": [
    "# print(\"X_train:\", np.shape(X_train))\n",
    "# print(\"y_train:\", np.shape(y_train))\n",
    "# print(\"X_test:\", np.shape(X_test))"
   ]
  },
  {
   "cell_type": "markdown",
   "metadata": {},
   "source": [
    "Data Visualization"
   ]
  },
  {
   "cell_type": "code",
   "execution_count": 5,
   "metadata": {},
   "outputs": [
    {
     "name": "stdout",
     "output_type": "stream",
     "text": [
      "(28, 28)\n",
      "[[  0.   0.   0.   0.   0.   0.   0.   0.   0.   0.   0.   0.   0.   0.\n",
      "    0.   0.   0.   0.   0.   0.   0.   0.   0.   0.   0.   0.   0.   0.]\n",
      " [  0.   0.   0.   0.   0.   0.   0.   0.   0.   0.   0.   0.   0.   0.\n",
      "    0.   0.   0.   0.   0.   0.   0.   0.   0.   0.   0.   0.   0.   0.]\n",
      " [  0.   0.   0.   0.   0.   0.   0.   0.   0.   0.   0.   0.   0.   0.\n",
      "    0.   0.   0.   0.   0.   0.   0.   0.   0.   0.   0.   0.   0.   0.]\n",
      " [  0.   0.   0.   0.   0.   0.   0.  21.  51.  51. 152. 152. 254. 253.\n",
      "  254. 213. 152.  51.   0.   0.   0.   0.   0.   0.   0.   0.   0.   0.]\n",
      " [  0.   0.   0.   0.   0.   0.  21. 203. 253. 252. 253. 252. 253. 252.\n",
      "  253. 252. 253. 232.  82.   0.   0.   0.   0.   0.   0.   0.   0.   0.]\n",
      " [  0.   0.   0.   0.   0.   0.  21. 203. 254. 253. 254. 253. 244. 203.\n",
      "  203. 223. 254. 253. 214.  10.   0.   0.   0.   0.   0.   0.   0.   0.]\n",
      " [  0.   0.   0.   0.   0.   0.   0.  20. 112. 151. 151.  70.  40.   0.\n",
      "    0.  20. 213. 252. 253.  50.   0.   0.   0.   0.   0.   0.   0.   0.]\n",
      " [  0.   0.   0.   0.   0.   0.   0.   0.   0.  22. 155. 158. 158. 249.\n",
      "  218. 189. 248. 255. 254. 143.   0.   0.   0.   0.   0.   0.   0.   0.]\n",
      " [  0.   0.   0.   0.   0.   0.   0.   0.   0. 133. 254. 254. 254. 254.\n",
      "  254. 254. 254. 254. 254. 215.   0.   0.   0.   0.   0.   0.   0.   0.]\n",
      " [  0.   0.   0.   0.   0.   0.   0.   0.  18. 235. 254. 254. 254. 202.\n",
      "  173. 253. 254. 253. 254. 229. 132.  51.   0.   0.   0.   0.   0.   0.]\n",
      " [  0.   0.   0.   0.   0.   0.   0.  14. 185. 254. 254. 227. 123. 223.\n",
      "  253. 252. 253. 252. 253. 254. 253. 252. 123.   0.   0.   0.   0.   0.]\n",
      " [  0.   0.   0.   0.   0.   0.   0. 139. 254. 254. 219. 163. 254. 253.\n",
      "  254. 253. 254. 253. 254. 254. 254. 253. 254.  50.   0.   0.   0.   0.]\n",
      " [  0.   0.   0.   0.   0.   0.   0. 153. 254. 158.  30. 203. 253. 252.\n",
      "  253. 252. 233. 151. 254. 226. 172. 252. 253.  91.   0.   0.   0.   0.]\n",
      " [  0.   0.   0.   0.   0.   0.   0.   6.  46.   3.   0.  41. 163. 203.\n",
      "  102.  20.   0. 106. 254. 215.  52. 253. 254.  91.   0.   0.   0.   0.]\n",
      " [  0.   0.   0.   0.   0.   0.   0.   0.   0.   0.   0.   0.   0.   0.\n",
      "    0.   0.   0. 149. 254. 171.  92. 252. 253.  50.   0.   0.   0.   0.]\n",
      " [  0.   0.   0.   0.   0.   0.   0.   0.   0.   0.   0.   0.   0.   0.\n",
      "    0.   0.  62. 238. 254.  82. 254. 253. 244.  40.   0.   0.   0.   0.]\n",
      " [  0.   0.   0.   0.   0.   0.   0.  41. 123. 162. 142. 102.  41.   0.\n",
      "    0.   0. 157. 254. 185. 243. 253. 252.  81.   0.   0.   0.   0.   0.]\n",
      " [  0.   0.   0.   0.   0.  41. 173. 253. 254. 253. 254. 253. 254. 131.\n",
      "    0. 105. 250. 244. 254. 253. 254. 233.   0.   0.   0.   0.   0.   0.]\n",
      " [  0.   0.   0.   0.  62. 223. 253. 252. 253. 252. 253. 252. 253. 252.\n",
      "  183. 197. 254. 252. 253. 252. 233.  50.   0.   0.   0.   0.   0.   0.]\n",
      " [  0.   0.   0.   0. 214. 253. 255. 253. 255. 253. 254. 253. 254. 253.\n",
      "  254. 254. 254. 253. 254. 233.  41.   0.   0.   0.   0.   0.   0.   0.]\n",
      " [  0.   0.   0.   0. 253. 252. 253. 252. 253. 252. 253. 252. 253. 252.\n",
      "  253. 254. 253. 252. 192.  50.   0.   0.   0.   0.   0.   0.   0.   0.]\n",
      " [  0.   0.   0.   0.  82. 243. 255. 253. 255. 253. 254. 253. 254. 253.\n",
      "  254. 253. 244. 122.   0.   0.   0.   0.   0.   0.   0.   0.   0.   0.]\n",
      " [  0.   0.   0.   0.   0.  81. 213. 252. 253. 252. 253. 252. 253. 247.\n",
      "  254. 111.  40.   0.   0.   0.   0.   0.   0.   0.   0.   0.   0.   0.]\n",
      " [  0.   0.   0.   0.   0.   0.   0.   0.   0.   0.   0.  15. 237. 254.\n",
      "  204.  19.   0.   0.   0.   0.   0.   0.   0.   0.   0.   0.   0.   0.]\n",
      " [  0.   0.   0.   0.   0.   0.   0.   0.   0.   0.   0.  82. 254. 254.\n",
      "   82.   0.   0.   0.   0.   0.   0.   0.   0.   0.   0.   0.   0.   0.]\n",
      " [  0.   0.   0.   0.   0.   0.   0.   0.   0.   0.  28. 222. 254. 198.\n",
      "    6.   0.   0.   0.   0.   0.   0.   0.   0.   0.   0.   0.   0.   0.]\n",
      " [  0.   0.   0.   0.   0.   0.   0.   0.   0.   0.  90. 254. 254.  37.\n",
      "    0.   0.   0.   0.   0.   0.   0.   0.   0.   0.   0.   0.   0.   0.]\n",
      " [  0.   0.   0.   0.   0.   0.   0.   0.   0.   0.   0.   0.   0.   0.\n",
      "    0.   0.   0.   0.   0.   0.   0.   0.   0.   0.   0.   0.   0.   0.]]\n"
     ]
    },
    {
     "data": {
      "text/plain": [
       "<matplotlib.image.AxesImage at 0x120d67a90>"
      ]
     },
     "execution_count": 5,
     "metadata": {},
     "output_type": "execute_result"
    },
    {
     "data": {
      "image/png": "[encoded data removed]",
      "text/plain": [
       "<Figure size 640x480 with 1 Axes>"
      ]
     },
     "metadata": {},
     "output_type": "display_data"
    }
   ],
   "source": [
    "img = X_train[2,:].reshape(28,28)\n",
    "print(np.shape(img))\n",
    "print(img)\n",
    "plt.imshow(img)"
   ]
  },
  {
   "cell_type": "code",
   "execution_count": 12,
   "metadata": {},
   "outputs": [],
   "source": [
    "# rescale data\n",
    "X_train = X_train / 255\n",
    "X_test = X_test / 255"
   ]
  },
  {
   "cell_type": "code",
   "execution_count": 13,
   "metadata": {},
   "outputs": [
    {
     "name": "stdout",
     "output_type": "stream",
     "text": [
      "Training Accuracy: 100.00%\n"
     ]
    }
   ],
   "source": [
    "from sklearn.decomposition import PCA\n",
    "from sklearn.ensemble import RandomForestClassifier\n",
    "from sklearn.pipeline import make_pipeline\n",
    "from sklearn.preprocessing import StandardScaler\n",
    "from sklearn.metrics import accuracy_score\n",
    "\n",
    "# Initialize PCA and Random Forest Classifier\n",
    "pca = PCA(n_components=0.95)\n",
    "rf_classifier = RandomForestClassifier(n_estimators=100, random_state=42)\n",
    "\n",
    "# Create a pipeline\n",
    "pipeline = make_pipeline(StandardScaler(), pca, rf_classifier)\n",
    "\n",
    "# Train the model\n",
    "pipeline.fit(X_train, y_train)\n",
    "\n",
    "# Predict on the training set\n",
    "y_train_pred = pipeline.predict(X_train)\n",
    "\n",
    "# Calculate the accuracy on the training set\n",
    "train_accuracy = accuracy_score(y_train, y_train_pred)\n",
    "print(f'Training Accuracy: {train_accuracy * 100:.2f}%')\n"
   ]
  },
  {
   "cell_type": "code",
   "execution_count": 1,
   "metadata": {},
   "outputs": [
    {
     "ename": "NameError",
     "evalue": "name 'pipeline' is not defined",
     "output_type": "error",
     "traceback": [
      "\u001b[0;31m---------------------------------------------------------------------------\u001b[0m",
      "\u001b[0;31mNameError\u001b[0m                                 Traceback (most recent call last)",
      "Cell \u001b[0;32mIn[1], line 2\u001b[0m\n\u001b[1;32m      1\u001b[0m \u001b[38;5;66;03m# Predict on the test set\u001b[39;00m\n\u001b[0;32m----> 2\u001b[0m y_test_pred \u001b[38;5;241m=\u001b[39m pipeline\u001b[38;5;241m.\u001b[39mpredict(X_test)\n\u001b[1;32m      4\u001b[0m \u001b[38;5;66;03m# The 'y_test_pred' array now contains predictions with indices starting from 0\u001b[39;00m\n\u001b[1;32m      5\u001b[0m \u001b[38;5;28mprint\u001b[39m(np\u001b[38;5;241m.\u001b[39marray(y_test_pred))\n",
      "\u001b[0;31mNameError\u001b[0m: name 'pipeline' is not defined"
     ]
    }
   ],
   "source": [
    "# Predict on the test set\n",
    "y_test_pred = pipeline.predict(X_test)\n",
    "\n",
    "# The 'y_test_pred' array now contains predictions with indices starting from 0\n",
    "print(np.array(y_test_pred))\n",
    "print(np.shape(y_test_pred))"
   ]
  },
  {
   "cell_type": "code",
   "execution_count": 21,
   "metadata": {},
   "outputs": [],
   "source": [
    "predict_id = np.arange(0, len(X_test))\n",
    "submission_predictions = np.vstack((predict_id, y_test_pred)).T"
   ]
  },
  {
   "cell_type": "code",
   "execution_count": 23,
   "metadata": {},
   "outputs": [],
   "source": [
    "# save the predictions to a file:\n",
    "np.savetxt(\"predictions.csv\", submission_predictions, delimiter=\",\", header=\"ID, Label\",fmt='%d')\n"
   ]
  },
  {
   "cell_type": "code",
   "execution_count": null,
   "metadata": {},
   "outputs": [],
   "source": []
  },
  {
   "cell_type": "code",
   "execution_count": null,
   "metadata": {},
   "outputs": [],
   "source": []
  },
  {
   "cell_type": "code",
   "execution_count": null,
   "metadata": {},
   "outputs": [],
   "source": []
  }
 ],
 "metadata": {
  "kernelspec": {
   "display_name": "ece4200",
   "language": "python",
   "name": "python3"
  },
  "language_info": {
   "codemirror_mode": {
    "name": "ipython",
    "version": 3
   },
   "file_extension": ".py",
   "mimetype": "text/x-python",
   "name": "python",
   "nbconvert_exporter": "python",
   "pygments_lexer": "ipython3",
   "version": "3.11.7"
  }
 },
 "nbformat": 4,
 "nbformat_minor": 2
}
