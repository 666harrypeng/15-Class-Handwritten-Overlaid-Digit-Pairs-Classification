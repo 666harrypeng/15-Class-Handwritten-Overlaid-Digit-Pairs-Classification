{
 "cells": [
  {
   "cell_type": "code",
   "execution_count": 1,
   "metadata": {},
   "outputs": [],
   "source": [
    "import torch\n",
    "import torch.nn as nn\n",
    "import torch.optim as optim\n",
    "import torch.nn.functional as F\n",
    "from torchvision import transforms\n",
    "from torch.utils.data import DataLoader, TensorDataset\n",
    "from sklearn.model_selection import train_test_split\n",
    "import numpy as np\n",
    "from datetime import datetime\n",
    "import os\n"
   ]
  },
  {
   "cell_type": "code",
   "execution_count": 2,
   "metadata": {},
   "outputs": [
    {
     "name": "stdout",
     "output_type": "stream",
     "text": [
      "Using device: cpu\n"
     ]
    }
   ],
   "source": [
    "\n",
    "# check CUDA\n",
    "device = torch.device(\"cuda\" if torch.cuda.is_available() else \"cpu\")\n",
    "print(f\"Using device: {device}\")\n"
   ]
  },
  {
   "cell_type": "code",
   "execution_count": 3,
   "metadata": {},
   "outputs": [],
   "source": [
    "\n",
    "# Define the CNN with Residual Blocks\n",
    "class ResidualBlock(nn.Module):\n",
    "    def __init__(self, in_channels, out_channels, stride=1, downsample=None):\n",
    "        super(ResidualBlock, self).__init__()\n",
    "        self.conv1 = nn.Conv2d(in_channels, out_channels, kernel_size=3, \n",
    "                               stride=stride, padding=1)\n",
    "        self.bn1 = nn.BatchNorm2d(out_channels)\n",
    "        self.relu = nn.ReLU(inplace=True)\n",
    "        self.conv2 = nn.Conv2d(out_channels, out_channels, kernel_size=3, \n",
    "                               stride=1, padding=1)\n",
    "        self.bn2 = nn.BatchNorm2d(out_channels)\n",
    "        self.downsample = downsample\n",
    "\n",
    "    def forward(self, x):\n",
    "        residual = x\n",
    "        out = self.conv1(x)\n",
    "        out = self.bn1(out)\n",
    "        out = self.relu(out)\n",
    "        out = self.conv2(out)\n",
    "        out = self.bn2(out)\n",
    "        if self.downsample:\n",
    "            residual = self.downsample(x)\n",
    "        out += residual\n",
    "        out = self.relu(out)\n",
    "        return out\n",
    "\n",
    "class CNN(nn.Module):\n",
    "    def __init__(self):\n",
    "        super(CNN, self).__init__()\n",
    "        self.in_channels = 64\n",
    "        self.conv1 = nn.Conv2d(1, 64, kernel_size=3, padding=1) \n",
    "        self.bn1 = nn.BatchNorm2d(64)\n",
    "        self.relu = nn.ReLU(inplace=True)\n",
    "        # Implement Residual Blocks\n",
    "        self.layer1 = self.make_layer(ResidualBlock, 64, 2, 1)\n",
    "        self.layer2 = self.make_layer(ResidualBlock, 128, 2, 2)\n",
    "        self.layer3 = self.make_layer(ResidualBlock, 256, 2, 2)\n",
    "        self.layer4 = self.make_layer(ResidualBlock, 512, 2, 2)\n",
    "        self.avg_pool = nn.AvgPool2d(3)\n",
    "        self.fc = nn.Linear(512, 15)  # 15 output classes\n",
    "\n",
    "    def make_layer(self, block, out_channels, blocks, stride=1):\n",
    "        downsample = None\n",
    "        if (stride != 1) or (self.in_channels != out_channels):\n",
    "            downsample = nn.Sequential(\n",
    "                nn.Conv2d(self.in_channels, out_channels, kernel_size=3, stride=stride, padding=1),\n",
    "                nn.BatchNorm2d(out_channels))\n",
    "        layers = []\n",
    "        layers.append(block(self.in_channels, out_channels, stride, downsample))\n",
    "        self.in_channels = out_channels\n",
    "        for i in range(1, blocks):\n",
    "            layers.append(block(out_channels, out_channels))\n",
    "        return nn.Sequential(*layers)\n",
    "\n",
    "    def forward(self, x):\n",
    "        out = self.conv1(x)\n",
    "        out = self.bn1(out)\n",
    "        out = self.relu(out)\n",
    "        out = self.layer1(out)\n",
    "        out = self.layer2(out)\n",
    "        out = self.layer3(out)\n",
    "        out = self.layer4(out)\n",
    "        out = self.avg_pool(out)\n",
    "        out = out.view(out.size(0), -1)\n",
    "        out = self.fc(out)\n",
    "        return out\n"
   ]
  },
  {
   "cell_type": "code",
   "execution_count": 4,
   "metadata": {},
   "outputs": [],
   "source": [
    "\n",
    "# load the dataset from the npz file\n",
    "\n",
    "data = np.load('data.npz')\n",
    "X_train = data['X_train'].astype(np.float32)  # Shape: (82875, 784)\n",
    "y_train = data['y_train'].astype(np.int64)    # Shape: (82875,)\n",
    "X_test = data['X_test'].astype(np.float32)    # Shape: (14625, 784)\n"
   ]
  },
  {
   "cell_type": "code",
   "execution_count": 5,
   "metadata": {},
   "outputs": [],
   "source": [
    "# Normalize the data\n",
    "X_scaled = X_train/255\n",
    "X_scaled = X_scaled.reshape(-1, 1, 28, 28)  # Reshape back to (n_samples, channels, height, width)\n",
    "\n",
    "X_test_scaled = X_test/255\n",
    "X_test_scaled = X_test_scaled.reshape(-1, 1, 28, 28)"
   ]
  },
  {
   "cell_type": "code",
   "execution_count": 6,
   "metadata": {},
   "outputs": [],
   "source": [
    "# Split the data into training and validation sets\n",
    "X_train, X_val, y_train, y_val = train_test_split(X_scaled, y_train, test_size=0.2, random_state=42)"
   ]
  },
  {
   "cell_type": "code",
   "execution_count": 7,
   "metadata": {},
   "outputs": [],
   "source": [
    "# Convert arrays to PyTorch tensors\n",
    "X_train_tensor = torch.tensor(X_train)\n",
    "y_train_tensor = torch.tensor(y_train)\n",
    "X_val_tensor = torch.tensor(X_val)\n",
    "y_val_tensor = torch.tensor(y_val)\n",
    "X_test_tensor = torch.tensor(X_test_scaled)"
   ]
  },
  {
   "cell_type": "code",
   "execution_count": 9,
   "metadata": {},
   "outputs": [],
   "source": [
    "\n",
    "# Create TensorDatasets and DataLoaders\n",
    "train_dataset = TensorDataset(X_train_tensor, y_train_tensor)\n",
    "val_dataset = TensorDataset(X_val_tensor, y_val_tensor)\n",
    "train_loader = DataLoader(train_dataset, batch_size=125, shuffle=True)\n",
    "val_loader = DataLoader(val_dataset, batch_size=125, shuffle=False)\n"
   ]
  },
  {
   "cell_type": "code",
   "execution_count": 10,
   "metadata": {},
   "outputs": [],
   "source": [
    "\n",
    "# Initialize the model, loss function, and optimizer\n",
    "model = CNN().to(device)\n",
    "criterion = nn.CrossEntropyLoss()\n",
    "#optimizer = optim.RMSprop(model.parameters(), lr=0.0005, alpha=0.9, eps=1e-08, weight_decay=0, momentum=0.9, centered=False)\n",
    "optimizer = optim.Adam(model.parameters(), lr=0.0008)"
   ]
  },
  {
   "cell_type": "code",
   "execution_count": 11,
   "metadata": {},
   "outputs": [],
   "source": [
    "\n",
    "# Training model\n",
    "def train(num_epochs):\n",
    "    model.train()\n",
    "    for epoch in range(num_epochs):\n",
    "        for data, targets in train_loader:\n",
    "            data, targets = data.to(device), targets.to(device) # Move data to GPU if available\n",
    "            optimizer.zero_grad()\n",
    "            outputs = model(data)\n",
    "            loss = criterion(outputs, targets)\n",
    "            loss.backward()\n",
    "            optimizer.step()\n",
    "        print(f'Epoch {epoch+1}, Loss: {loss.item()}')\n",
    "\n",
    "\n",
    "# Validate the model\n",
    "def validate_model():\n",
    "    model.eval()\n",
    "    total = 0\n",
    "    correct = 0\n",
    "    with torch.no_grad():\n",
    "        for data, targets in val_loader:\n",
    "            data, targets = data.to(device), targets.to(device)  # Move data to GPU if available\n",
    "            outputs = model(data)\n",
    "            _, predicted = torch.max(outputs.data, 1)\n",
    "            total += targets.size(0)\n",
    "            correct += (predicted == targets).sum().item()\n",
    "    accuracy = 100 * correct / total\n",
    "    print(f'Validation Accuracy: {accuracy:.2f}%')\n",
    "    \n",
    "# Prediction function\n",
    "def predict(data_loader):\n",
    "    model.eval()\n",
    "    all_preds = []\n",
    "    with torch.no_grad():\n",
    "        for data in data_loader:\n",
    "            data = data.to(device)\n",
    "            outputs = model(data)\n",
    "            _, preds = torch.max(outputs, 1)\n",
    "            all_preds.extend(preds.cpu().numpy())\n",
    "    return all_preds"
   ]
  },
  {
   "cell_type": "code",
   "execution_count": 68,
   "metadata": {},
   "outputs": [
    {
     "name": "stdout",
     "output_type": "stream",
     "text": [
      "Epoch 1, Loss: 0.19886234402656555\n",
      "Epoch 2, Loss: 0.10900476574897766\n",
      "Epoch 3, Loss: 0.12020643055438995\n",
      "Epoch 4, Loss: 0.08914970606565475\n",
      "Epoch 5, Loss: 0.0919119268655777\n",
      "Epoch 6, Loss: 0.1542442888021469\n",
      "Epoch 7, Loss: 0.06253644078969955\n",
      "Epoch 8, Loss: 0.06355825811624527\n",
      "Epoch 9, Loss: 0.006623979192227125\n",
      "Epoch 10, Loss: 0.024642109870910645\n",
      "Epoch 11, Loss: 0.004815190564841032\n",
      "Epoch 12, Loss: 0.004590204451233149\n",
      "Epoch 13, Loss: 0.024619080126285553\n",
      "Epoch 14, Loss: 0.008317760191857815\n",
      "Epoch 15, Loss: 0.002217015717178583\n",
      "Epoch 16, Loss: 0.07220067828893661\n",
      "Epoch 17, Loss: 0.005309847183525562\n",
      "Epoch 18, Loss: 0.0063355909660458565\n",
      "Epoch 19, Loss: 0.0409163199365139\n",
      "Epoch 20, Loss: 0.0014564853627234697\n",
      "Epoch 21, Loss: 0.021214304491877556\n",
      "Epoch 22, Loss: 0.007388508878648281\n",
      "Epoch 23, Loss: 0.0001725315669318661\n",
      "Epoch 24, Loss: 0.0004041249630972743\n",
      "Epoch 25, Loss: 0.019093720242381096\n",
      "Epoch 26, Loss: 0.0001276477996725589\n",
      "Epoch 27, Loss: 0.002137929666787386\n",
      "Epoch 28, Loss: 0.004358738195151091\n",
      "Epoch 29, Loss: 0.0005464974092319608\n",
      "Epoch 30, Loss: 0.009983409196138382\n",
      "Epoch 31, Loss: 0.004247370176017284\n",
      "Epoch 32, Loss: 0.00021654805459547788\n",
      "Epoch 33, Loss: 0.008753672242164612\n",
      "Epoch 34, Loss: 0.00956634059548378\n",
      "Epoch 35, Loss: 4.822489427169785e-05\n",
      "Epoch 36, Loss: 0.05112816393375397\n",
      "Epoch 37, Loss: 0.0013354510301724076\n",
      "Epoch 38, Loss: 0.00042284614755772054\n",
      "Epoch 39, Loss: 6.173811561893672e-05\n",
      "Epoch 40, Loss: 0.0014964549336582422\n",
      "Epoch 41, Loss: 0.0015273455064743757\n",
      "Epoch 42, Loss: 1.2420820894476492e-05\n",
      "Epoch 43, Loss: 1.05080389403156e-05\n",
      "Epoch 44, Loss: 3.1684262467024382e-06\n",
      "Epoch 45, Loss: 7.661715244466905e-06\n",
      "Epoch 46, Loss: 4.393774361233227e-06\n",
      "Epoch 47, Loss: 1.6060877896961756e-05\n",
      "Epoch 48, Loss: 8.244120181188919e-06\n",
      "Epoch 49, Loss: 1.014048666547751e-05\n",
      "Epoch 50, Loss: 1.5688210623920895e-05\n",
      "Validation Accuracy: 97.44%\n"
     ]
    }
   ],
   "source": [
    "# Run the training and validation\n",
    "train(50)\n",
    "validate_model()"
   ]
  },
  {
   "cell_type": "code",
   "execution_count": 69,
   "metadata": {},
   "outputs": [
    {
     "name": "stdout",
     "output_type": "stream",
     "text": [
      "(14625,)\n"
     ]
    }
   ],
   "source": [
    "\n",
    "# Predict on the test set\n",
    "test_loader = DataLoader(X_test_tensor, batch_size=64, shuffle=False)\n",
    "test_predictions = predict(test_loader)\n",
    "\n",
    "print(np.shape(test_predictions))\n"
   ]
  },
  {
   "cell_type": "code",
   "execution_count": 70,
   "metadata": {},
   "outputs": [
    {
     "name": "stdout",
     "output_type": "stream",
     "text": [
      "File saved as submission/cnn_predictions_20240415_132153.csv\n"
     ]
    }
   ],
   "source": [
    "from datetime import datetime\n",
    "import os\n",
    "\n",
    "# Assume test_predictions are available from your model's output\n",
    "\n",
    "# Create the submission directory if it doesn't exist\n",
    "directory = \"submission\"\n",
    "if not os.path.exists(directory):\n",
    "    os.makedirs(directory)\n",
    "\n",
    "# Get current date and time\n",
    "current_time = datetime.now().strftime(\"%Y%m%d_%H%M%S\")\n",
    "filename = f\"cnn_predictions_{current_time}.csv\"\n",
    "\n",
    "# Full path for saving the file\n",
    "full_path = os.path.join(directory, filename)\n",
    "\n",
    "# Preparing the data to save\n",
    "predict_id = np.arange(0, len(X_test))\n",
    "submission_predictions = np.vstack((predict_id, test_predictions)).T\n",
    "\n",
    "# Save the predictions to a CSV file\n",
    "np.savetxt(full_path, submission_predictions, delimiter=\",\", fmt='%d', header=\"ID,Label\", comments='')\n",
    "\n",
    "print(f\"File saved as {full_path}\")"
   ]
  },
  {
   "cell_type": "code",
   "execution_count": 12,
   "metadata": {},
   "outputs": [
    {
     "name": "stdout",
     "output_type": "stream",
     "text": [
      "----------------------------------------------------------------\n",
      "        Layer (type)               Output Shape         Param #\n",
      "================================================================\n",
      "            Conv2d-1           [-1, 64, 28, 28]             640\n",
      "       BatchNorm2d-2           [-1, 64, 28, 28]             128\n",
      "              ReLU-3           [-1, 64, 28, 28]               0\n",
      "            Conv2d-4           [-1, 64, 28, 28]          36,928\n",
      "       BatchNorm2d-5           [-1, 64, 28, 28]             128\n",
      "              ReLU-6           [-1, 64, 28, 28]               0\n",
      "            Conv2d-7           [-1, 64, 28, 28]          36,928\n",
      "       BatchNorm2d-8           [-1, 64, 28, 28]             128\n",
      "              ReLU-9           [-1, 64, 28, 28]               0\n",
      "    ResidualBlock-10           [-1, 64, 28, 28]               0\n",
      "           Conv2d-11           [-1, 64, 28, 28]          36,928\n",
      "      BatchNorm2d-12           [-1, 64, 28, 28]             128\n",
      "             ReLU-13           [-1, 64, 28, 28]               0\n",
      "           Conv2d-14           [-1, 64, 28, 28]          36,928\n",
      "      BatchNorm2d-15           [-1, 64, 28, 28]             128\n",
      "             ReLU-16           [-1, 64, 28, 28]               0\n",
      "    ResidualBlock-17           [-1, 64, 28, 28]               0\n",
      "           Conv2d-18          [-1, 128, 14, 14]          73,856\n",
      "      BatchNorm2d-19          [-1, 128, 14, 14]             256\n",
      "             ReLU-20          [-1, 128, 14, 14]               0\n",
      "           Conv2d-21          [-1, 128, 14, 14]         147,584\n",
      "      BatchNorm2d-22          [-1, 128, 14, 14]             256\n",
      "           Conv2d-23          [-1, 128, 14, 14]          73,856\n",
      "      BatchNorm2d-24          [-1, 128, 14, 14]             256\n",
      "             ReLU-25          [-1, 128, 14, 14]               0\n",
      "    ResidualBlock-26          [-1, 128, 14, 14]               0\n",
      "           Conv2d-27          [-1, 128, 14, 14]         147,584\n",
      "      BatchNorm2d-28          [-1, 128, 14, 14]             256\n",
      "             ReLU-29          [-1, 128, 14, 14]               0\n",
      "           Conv2d-30          [-1, 128, 14, 14]         147,584\n",
      "      BatchNorm2d-31          [-1, 128, 14, 14]             256\n",
      "             ReLU-32          [-1, 128, 14, 14]               0\n",
      "    ResidualBlock-33          [-1, 128, 14, 14]               0\n",
      "           Conv2d-34            [-1, 256, 7, 7]         295,168\n",
      "      BatchNorm2d-35            [-1, 256, 7, 7]             512\n",
      "             ReLU-36            [-1, 256, 7, 7]               0\n",
      "           Conv2d-37            [-1, 256, 7, 7]         590,080\n",
      "      BatchNorm2d-38            [-1, 256, 7, 7]             512\n",
      "           Conv2d-39            [-1, 256, 7, 7]         295,168\n",
      "      BatchNorm2d-40            [-1, 256, 7, 7]             512\n",
      "             ReLU-41            [-1, 256, 7, 7]               0\n",
      "    ResidualBlock-42            [-1, 256, 7, 7]               0\n",
      "           Conv2d-43            [-1, 256, 7, 7]         590,080\n",
      "      BatchNorm2d-44            [-1, 256, 7, 7]             512\n",
      "             ReLU-45            [-1, 256, 7, 7]               0\n",
      "           Conv2d-46            [-1, 256, 7, 7]         590,080\n",
      "      BatchNorm2d-47            [-1, 256, 7, 7]             512\n",
      "             ReLU-48            [-1, 256, 7, 7]               0\n",
      "    ResidualBlock-49            [-1, 256, 7, 7]               0\n",
      "           Conv2d-50            [-1, 512, 4, 4]       1,180,160\n",
      "      BatchNorm2d-51            [-1, 512, 4, 4]           1,024\n",
      "             ReLU-52            [-1, 512, 4, 4]               0\n",
      "           Conv2d-53            [-1, 512, 4, 4]       2,359,808\n",
      "      BatchNorm2d-54            [-1, 512, 4, 4]           1,024\n",
      "           Conv2d-55            [-1, 512, 4, 4]       1,180,160\n",
      "      BatchNorm2d-56            [-1, 512, 4, 4]           1,024\n",
      "             ReLU-57            [-1, 512, 4, 4]               0\n",
      "    ResidualBlock-58            [-1, 512, 4, 4]               0\n",
      "           Conv2d-59            [-1, 512, 4, 4]       2,359,808\n",
      "      BatchNorm2d-60            [-1, 512, 4, 4]           1,024\n",
      "             ReLU-61            [-1, 512, 4, 4]               0\n",
      "           Conv2d-62            [-1, 512, 4, 4]       2,359,808\n",
      "      BatchNorm2d-63            [-1, 512, 4, 4]           1,024\n",
      "             ReLU-64            [-1, 512, 4, 4]               0\n",
      "    ResidualBlock-65            [-1, 512, 4, 4]               0\n",
      "        AvgPool2d-66            [-1, 512, 1, 1]               0\n",
      "           Linear-67                   [-1, 15]           7,695\n",
      "================================================================\n",
      "Total params: 12,556,431\n",
      "Trainable params: 12,556,431\n",
      "Non-trainable params: 0\n",
      "----------------------------------------------------------------\n",
      "Input size (MB): 0.00\n",
      "Forward/backward pass size (MB): 12.11\n",
      "Params size (MB): 47.90\n",
      "Estimated Total Size (MB): 60.01\n",
      "----------------------------------------------------------------\n"
     ]
    }
   ],
   "source": [
    "from torchsummary import summary\n",
    "input_shape = (1, 28, 28)\n",
    "summary(model, input_shape)\n",
    "# print(model)"
   ]
  },
  {
   "cell_type": "code",
   "execution_count": null,
   "metadata": {},
   "outputs": [],
   "source": []
  }
 ],
 "metadata": {
  "kernelspec": {
   "display_name": "ece4200",
   "language": "python",
   "name": "python3"
  },
  "language_info": {
   "codemirror_mode": {
    "name": "ipython",
    "version": 3
   },
   "file_extension": ".py",
   "mimetype": "text/x-python",
   "name": "python",
   "nbconvert_exporter": "python",
   "pygments_lexer": "ipython3",
   "version": "3.11.7"
  }
 },
 "nbformat": 4,
 "nbformat_minor": 2
}
