{
 "cells": [
  {
   "cell_type": "code",
   "execution_count": 1,
   "metadata": {},
   "outputs": [],
   "source": [
    "import numpy as np\n",
    "from sklearn.model_selection import train_test_split\n",
    "from sklearn.naive_bayes import BernoulliNB\n",
    "from sklearn.preprocessing import StandardScaler, Binarizer\n",
    "from sklearn.metrics import accuracy_score"
   ]
  },
  {
   "cell_type": "code",
   "execution_count": 2,
   "metadata": {},
   "outputs": [],
   "source": [
    "# Load the data\n",
    "data = np.load('data.npz')\n",
    "X_train = data['X_train']  # Shape: (82875, 784)\n",
    "y_train = data['y_train']  # Shape: (82875,)\n",
    "X_test = data['X_test']  # (14625, 784)"
   ]
  },
  {
   "cell_type": "code",
   "execution_count": 3,
   "metadata": {},
   "outputs": [],
   "source": [
    "# Split the data into a training set and a validation set\n",
    "X_train, X_val, y_train, y_val = train_test_split(X_train, y_train, test_size=0.2, random_state=20)"
   ]
  },
  {
   "cell_type": "code",
   "execution_count": 4,
   "metadata": {},
   "outputs": [],
   "source": [
    "X_train_scaled = X_train/255\n",
    "X_val_scaled = X_val / 255"
   ]
  },
  {
   "cell_type": "code",
   "execution_count": 5,
   "metadata": {},
   "outputs": [],
   "source": [
    "# Threshold\n",
    "binarizer = Binarizer(threshold=0)\n",
    "X_train_binarized = binarizer.fit_transform(X_train_scaled)\n",
    "X_val_binarized = binarizer.transform(X_val_scaled)"
   ]
  },
  {
   "cell_type": "code",
   "execution_count": 6,
   "metadata": {},
   "outputs": [
    {
     "name": "stdout",
     "output_type": "stream",
     "text": [
      "Training Accuracy: 61.97%\n"
     ]
    }
   ],
   "source": [
    "# Initialize and train Bernoulli Naive Bayes\n",
    "berNB = BernoulliNB()\n",
    "berNB.fit(X_train_binarized, y_train)\n",
    "\n",
    "# Predict on the training set\n",
    "y_train_pred = berNB.predict(X_train_binarized)\n",
    "\n",
    "# Calculate the accuracy on the training set\n",
    "train_accuracy = accuracy_score(y_train, y_train_pred)\n",
    "print(f'Training Accuracy: {train_accuracy * 100:.2f}%')\n"
   ]
  },
  {
   "cell_type": "code",
   "execution_count": 7,
   "metadata": {},
   "outputs": [
    {
     "name": "stdout",
     "output_type": "stream",
     "text": [
      "Validation Accuracy: 61.35%\n"
     ]
    }
   ],
   "source": [
    "# Predict on the validation set\n",
    "y_val_pred = berNB.predict(X_val_binarized)\n",
    "\n",
    "# Calculate the accuracy on the validation set\n",
    "validation_accuracy = accuracy_score(y_val, y_val_pred)\n",
    "print(f'Validation Accuracy: {validation_accuracy * 100:.2f}%')\n"
   ]
  },
  {
   "cell_type": "code",
   "execution_count": 8,
   "metadata": {},
   "outputs": [
    {
     "name": "stdout",
     "output_type": "stream",
     "text": [
      "(14625,)\n"
     ]
    }
   ],
   "source": [
    "# predict on the test set\n",
    "X_test_scaled = X_test / 255\n",
    "X_test_binarized = binarizer.transform(X_test_scaled)\n",
    "y_test_pred = berNB.predict(X_test_binarized)\n",
    "\n",
    "print(np.shape(y_test_pred))"
   ]
  },
  {
   "cell_type": "code",
   "execution_count": 9,
   "metadata": {},
   "outputs": [],
   "source": [
    "# Save predictions \n",
    "predict_id = np.arange(0, len(X_test))\n",
    "submission_predictions = np.vstack((predict_id, y_test_pred)).T\n",
    "\n",
    "np.savetxt(\"naive_bayes_predictions.csv\", submission_predictions, delimiter=\",\", fmt='%d', header=\"ID,Label\", comments='')"
   ]
  },
  {
   "cell_type": "code",
   "execution_count": null,
   "metadata": {},
   "outputs": [],
   "source": []
  },
  {
   "cell_type": "code",
   "execution_count": null,
   "metadata": {},
   "outputs": [],
   "source": []
  },
  {
   "cell_type": "code",
   "execution_count": null,
   "metadata": {},
   "outputs": [],
   "source": []
  },
  {
   "cell_type": "code",
   "execution_count": null,
   "metadata": {},
   "outputs": [],
   "source": []
  }
 ],
 "metadata": {
  "kernelspec": {
   "display_name": "ece4200",
   "language": "python",
   "name": "python3"
  },
  "language_info": {
   "codemirror_mode": {
    "name": "ipython",
    "version": 3
   },
   "file_extension": ".py",
   "mimetype": "text/x-python",
   "name": "python",
   "nbconvert_exporter": "python",
   "pygments_lexer": "ipython3",
   "version": "3.11.7"
  }
 },
 "nbformat": 4,
 "nbformat_minor": 2
}
